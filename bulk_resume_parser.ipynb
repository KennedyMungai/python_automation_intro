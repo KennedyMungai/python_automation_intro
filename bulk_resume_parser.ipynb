{
 "cells": [
  {
   "attachments": {},
   "cell_type": "markdown",
   "metadata": {},
   "source": [
    "Import Library"
   ]
  },
  {
   "cell_type": "code",
   "execution_count": 1,
   "metadata": {},
   "outputs": [],
   "source": [
    "import spacy"
   ]
  },
  {
   "attachments": {},
   "cell_type": "markdown",
   "metadata": {},
   "source": [
    "Load English Tokenizer, tagger, parser, NER and word vectors"
   ]
  },
  {
   "cell_type": "code",
   "execution_count": 2,
   "metadata": {},
   "outputs": [],
   "source": [
    "nlp=spacy.load(\"en_core_web_sm\")"
   ]
  },
  {
   "attachments": {},
   "cell_type": "markdown",
   "metadata": {},
   "source": [
    "Sample Text"
   ]
  },
  {
   "cell_type": "code",
   "execution_count": 4,
   "metadata": {},
   "outputs": [],
   "source": [
    "text = \"Google was initially funded by an August 1998 contribution of $100,000 from Andy Bechtolsheim, co-founder of Sun Microsystems; the money was given before Google was incorporated.[30] Google received money from three other angel investors in 1998: Amazon.com founder Jeff Bezos, Stanford University computer science professor David Cheriton, and entrepreneur Ram Shriram.[31] Between these initial investors, friends, and family Google raised around 1 million dollars, which is what allowed them to open up their original shop in Menlo Park, California\""
   ]
  },
  {
   "attachments": {},
   "cell_type": "markdown",
   "metadata": {},
   "source": [
    "Checking the text inside the variable"
   ]
  },
  {
   "cell_type": "code",
   "execution_count": 5,
   "metadata": {},
   "outputs": [
    {
     "data": {
      "text/plain": [
       "'Google was initially funded by an August 1998 contribution of $100,000 from Andy Bechtolsheim, co-founder of Sun Microsystems; the money was given before Google was incorporated.[30] Google received money from three other angel investors in 1998: Amazon.com founder Jeff Bezos, Stanford University computer science professor David Cheriton, and entrepreneur Ram Shriram.[31] Between these initial investors, friends, and family Google raised around 1 million dollars, which is what allowed them to open up their original shop in Menlo Park, California'"
      ]
     },
     "execution_count": 5,
     "metadata": {},
     "output_type": "execute_result"
    }
   ],
   "source": [
    "text"
   ]
  },
  {
   "attachments": {},
   "cell_type": "markdown",
   "metadata": {},
   "source": [
    "NLP at work"
   ]
  },
  {
   "cell_type": "code",
   "execution_count": 6,
   "metadata": {},
   "outputs": [],
   "source": [
    "doc = nlp(text)"
   ]
  },
  {
   "attachments": {},
   "cell_type": "markdown",
   "metadata": {},
   "source": [
    "Showing the value inside the doc variable"
   ]
  },
  {
   "cell_type": "code",
   "execution_count": 8,
   "metadata": {},
   "outputs": [
    {
     "data": {
      "text/plain": [
       "Google was initially funded by an August 1998 contribution of $100,000 from Andy Bechtolsheim, co-founder of Sun Microsystems; the money was given before Google was incorporated.[30] Google received money from three other angel investors in 1998: Amazon.com founder Jeff Bezos, Stanford University computer science professor David Cheriton, and entrepreneur Ram Shriram.[31] Between these initial investors, friends, and family Google raised around 1 million dollars, which is what allowed them to open up their original shop in Menlo Park, California"
      ]
     },
     "execution_count": 8,
     "metadata": {},
     "output_type": "execute_result"
    }
   ],
   "source": [
    "doc"
   ]
  },
  {
   "attachments": {},
   "cell_type": "markdown",
   "metadata": {},
   "source": [
    "Tokenization (Splitting the input text based on a token)"
   ]
  },
  {
   "cell_type": "code",
   "execution_count": 7,
   "metadata": {},
   "outputs": [
    {
     "name": "stdout",
     "output_type": "stream",
     "text": [
      "Google\n",
      "was\n",
      "initially\n",
      "funded\n",
      "by\n",
      "an\n",
      "August\n",
      "1998\n",
      "contribution\n",
      "of\n",
      "$\n",
      "100,000\n",
      "from\n",
      "Andy\n",
      "Bechtolsheim\n",
      ",\n",
      "co\n",
      "-\n",
      "founder\n",
      "of\n",
      "Sun\n",
      "Microsystems\n",
      ";\n",
      "the\n",
      "money\n",
      "was\n",
      "given\n",
      "before\n",
      "Google\n",
      "was\n",
      "incorporated.[30\n",
      "]\n",
      "Google\n",
      "received\n",
      "money\n",
      "from\n",
      "three\n",
      "other\n",
      "angel\n",
      "investors\n",
      "in\n",
      "1998\n",
      ":\n",
      "Amazon.com\n",
      "founder\n",
      "Jeff\n",
      "Bezos\n",
      ",\n",
      "Stanford\n",
      "University\n",
      "computer\n",
      "science\n",
      "professor\n",
      "David\n",
      "Cheriton\n",
      ",\n",
      "and\n",
      "entrepreneur\n",
      "Ram\n",
      "Shriram.[31\n",
      "]\n",
      "Between\n",
      "these\n",
      "initial\n",
      "investors\n",
      ",\n",
      "friends\n",
      ",\n",
      "and\n",
      "family\n",
      "Google\n",
      "raised\n",
      "around\n",
      "1\n",
      "million\n",
      "dollars\n",
      ",\n",
      "which\n",
      "is\n",
      "what\n",
      "allowed\n",
      "them\n",
      "to\n",
      "open\n",
      "up\n",
      "their\n",
      "original\n",
      "shop\n",
      "in\n",
      "Menlo\n",
      "Park\n",
      ",\n",
      "California\n"
     ]
    }
   ],
   "source": [
    "for token in doc:\n",
    "    print(token)"
   ]
  },
  {
   "attachments": {},
   "cell_type": "markdown",
   "metadata": {},
   "source": [
    "Only output nouns from the text"
   ]
  },
  {
   "cell_type": "code",
   "execution_count": 11,
   "metadata": {},
   "outputs": [
    {
     "name": "stdout",
     "output_type": "stream",
     "text": [
      "contribution\n",
      "co\n",
      "-\n",
      "founder\n",
      "money\n",
      "money\n",
      "angel\n",
      "investors\n",
      "founder\n",
      "computer\n",
      "science\n",
      "professor\n",
      "entrepreneur\n",
      "investors\n",
      "friends\n",
      "family\n",
      "dollars\n",
      "shop\n"
     ]
    }
   ],
   "source": [
    "for token in doc:\n",
    "    if token.pos_ == 'NOUN':\n",
    "        print(token)"
   ]
  },
  {
   "attachments": {},
   "cell_type": "markdown",
   "metadata": {},
   "source": [
    "Only output verbs from the words given"
   ]
  },
  {
   "cell_type": "code",
   "execution_count": 12,
   "metadata": {},
   "outputs": [
    {
     "name": "stdout",
     "output_type": "stream",
     "text": [
      "funded\n",
      "given\n",
      "received\n",
      "raised\n",
      "allowed\n",
      "open\n"
     ]
    }
   ],
   "source": [
    "for token in doc:\n",
    "    if token.pos_ == 'VERB':\n",
    "        print(token)"
   ]
  },
  {
   "attachments": {},
   "cell_type": "markdown",
   "metadata": {},
   "source": [
    "Named Entity Recognition"
   ]
  },
  {
   "cell_type": "code",
   "execution_count": 13,
   "metadata": {},
   "outputs": [
    {
     "name": "stdout",
     "output_type": "stream",
     "text": [
      "Google ORG\n",
      "August 1998 DATE\n",
      "100,000 MONEY\n",
      "Andy Bechtolsheim PERSON\n",
      "Sun Microsystems ORG\n",
      "Google ORG\n",
      "incorporated.[30] Google PERSON\n",
      "three CARDINAL\n",
      "1998 DATE\n",
      "Amazon.com ORG\n",
      "Jeff Bezos PERSON\n",
      "Stanford University ORG\n",
      "David Cheriton PERSON\n",
      "Ram Shriram.[31 PERSON\n",
      "Google ORG\n",
      "around 1 million dollars MONEY\n",
      "Menlo Park GPE\n",
      "California GPE\n"
     ]
    }
   ],
   "source": [
    "for entity in doc.ents:\n",
    "    print(entity.text, entity.label_)"
   ]
  }
 ],
 "metadata": {
  "kernelspec": {
   "display_name": "python_automation",
   "language": "python",
   "name": "python3"
  },
  "language_info": {
   "codemirror_mode": {
    "name": "ipython",
    "version": 3
   },
   "file_extension": ".py",
   "mimetype": "text/x-python",
   "name": "python",
   "nbconvert_exporter": "python",
   "pygments_lexer": "ipython3",
   "version": "3.10.6"
  },
  "orig_nbformat": 4
 },
 "nbformat": 4,
 "nbformat_minor": 2
}
